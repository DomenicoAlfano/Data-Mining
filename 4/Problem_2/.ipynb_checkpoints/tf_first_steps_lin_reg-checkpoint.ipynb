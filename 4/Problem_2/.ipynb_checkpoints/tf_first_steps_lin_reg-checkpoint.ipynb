{
 "cells": [
  {
   "cell_type": "markdown",
   "metadata": {
    "colab_type": "text",
    "id": "4f3CKqFUqL2-",
    "slideshow": {
     "slide_type": "slide"
    }
   },
   "source": [
    "# First Steps with TensorFlow"
   ]
  },
  {
   "cell_type": "markdown",
   "metadata": {
    "colab_type": "text",
    "id": "Bd2Zkk1LE2Zr"
   },
   "source": [
    "**Learning Objectives:**\n",
    "  * Learn fundamental TensorFlow concepts\n",
    "  * Use the `LinearRegressor` class in TensorFlow to predict median housing price, at the granularity of city blocks, based on one input feature\n",
    "  * Evaluate the accuracy of a model's predictions using Root Mean Squared Error (RMSE)\n",
    "  * Improve the accuracy of a model by tuning its hyperparameters"
   ]
  },
  {
   "cell_type": "markdown",
   "metadata": {
    "colab_type": "text",
    "id": "MxiIKhP4E2Zr"
   },
   "source": [
    "The data is based on 1990 census data from California."
   ]
  },
  {
   "cell_type": "markdown",
   "metadata": {
    "colab_type": "text",
    "id": "6TjLjL9IU80G"
   },
   "source": [
    "## Setup\n",
    "In this first cell, we'll load the necessary libraries."
   ]
  },
  {
   "cell_type": "code",
   "execution_count": 2,
   "metadata": {
    "colab": {
     "autoexec": {
      "startup": false,
      "wait_interval": 0
     }
    },
    "colab_type": "code",
    "collapsed": false,
    "id": "rVFf5asKE2Zt"
   },
   "outputs": [
    {
     "ename": "ModuleNotFoundError",
     "evalue": "No module named 'tensorflow.python.data'",
     "output_type": "error",
     "traceback": [
      "\u001b[0;31m---------------------------------------------------------------------------\u001b[0m",
      "\u001b[0;31mModuleNotFoundError\u001b[0m                       Traceback (most recent call last)",
      "\u001b[0;32m<ipython-input-2-c18261a1265c>\u001b[0m in \u001b[0;36m<module>\u001b[0;34m()\u001b[0m\n\u001b[1;32m     11\u001b[0m \u001b[0;32mfrom\u001b[0m \u001b[0msklearn\u001b[0m \u001b[0;32mimport\u001b[0m \u001b[0mmetrics\u001b[0m\u001b[0;34m\u001b[0m\u001b[0m\n\u001b[1;32m     12\u001b[0m \u001b[0;32mimport\u001b[0m \u001b[0mtensorflow\u001b[0m \u001b[0;32mas\u001b[0m \u001b[0mtf\u001b[0m\u001b[0;34m\u001b[0m\u001b[0m\n\u001b[0;32m---> 13\u001b[0;31m \u001b[0;32mfrom\u001b[0m \u001b[0mtensorflow\u001b[0m\u001b[0;34m.\u001b[0m\u001b[0mpython\u001b[0m\u001b[0;34m.\u001b[0m\u001b[0mdata\u001b[0m \u001b[0;32mimport\u001b[0m \u001b[0mDataset\u001b[0m\u001b[0;34m\u001b[0m\u001b[0m\n\u001b[0m\u001b[1;32m     14\u001b[0m \u001b[0;34m\u001b[0m\u001b[0m\n\u001b[1;32m     15\u001b[0m \u001b[0mtf\u001b[0m\u001b[0;34m.\u001b[0m\u001b[0mlogging\u001b[0m\u001b[0;34m.\u001b[0m\u001b[0mset_verbosity\u001b[0m\u001b[0;34m(\u001b[0m\u001b[0mtf\u001b[0m\u001b[0;34m.\u001b[0m\u001b[0mlogging\u001b[0m\u001b[0;34m.\u001b[0m\u001b[0mERROR\u001b[0m\u001b[0;34m)\u001b[0m\u001b[0;34m\u001b[0m\u001b[0m\n",
      "\u001b[0;31mModuleNotFoundError\u001b[0m: No module named 'tensorflow.python.data'"
     ]
    }
   ],
   "source": [
    "import math\n",
    "\n",
    "from IPython import display\n",
    "from IPython.display import Image\n",
    "from IPython.core.display import HTML \n",
    "from matplotlib import cm\n",
    "from matplotlib import gridspec\n",
    "from matplotlib import pyplot as plt\n",
    "import numpy as np\n",
    "import pandas as pd\n",
    "from sklearn import metrics\n",
    "import tensorflow as tf\n",
    "from tensorflow.python.data import Dataset\n",
    "\n",
    "tf.logging.set_verbosity(tf.logging.ERROR)\n",
    "pd.options.display.max_rows = 10\n",
    "pd.options.display.float_format = '{:.1f}'.format"
   ]
  },
  {
   "cell_type": "markdown",
   "metadata": {
    "colab_type": "text",
    "id": "ipRyUHjhU80Q"
   },
   "source": [
    "Next, we'll load our data set."
   ]
  },
  {
   "cell_type": "code",
   "execution_count": 3,
   "metadata": {
    "colab": {
     "autoexec": {
      "startup": false,
      "wait_interval": 0
     }
    },
    "colab_type": "code",
    "collapsed": true,
    "id": "9ivCDWnwE2Zx"
   },
   "outputs": [],
   "source": [
    "california_housing_dataframe = pd.read_csv(\"https://storage.googleapis.com/ml_universities/california_housing_train.csv\", sep=\",\")"
   ]
  },
  {
   "cell_type": "markdown",
   "metadata": {
    "colab_type": "text",
    "id": "vVk_qlG6U80j"
   },
   "source": [
    "We'll randomize the data, just to be sure not to get any pathological ordering effects that might harm the performance of Stochastic Gradient Descent. Additionally, we'll scale `median_house_value` to be in units of thousands, so it can be learned a little more easily with learning rates in a range that we usually use."
   ]
  },
  {
   "cell_type": "code",
   "execution_count": null,
   "metadata": {
    "colab": {
     "autoexec": {
      "startup": false,
      "wait_interval": 0
     }
    },
    "colab_type": "code",
    "collapsed": true,
    "id": "r0eVyguIU80m"
   },
   "outputs": [],
   "source": [
    "california_housing_dataframe = california_housing_dataframe.reindex(\n",
    "    np.random.permutation(california_housing_dataframe.index))\n",
    "california_housing_dataframe[\"median_house_value\"] /= 1000.0\n",
    "california_housing_dataframe"
   ]
  },
  {
   "cell_type": "markdown",
   "metadata": {
    "colab_type": "text",
    "id": "HzzlSs3PtTmt",
    "slideshow": {
     "slide_type": "-"
    }
   },
   "source": [
    "## Examine the Data\n",
    "\n",
    "It's a good idea to get to know your data a little bit before you work with it.\n",
    "\n",
    "We'll print out a quick summary of a few useful statistics on each column: count of examples, mean, standard deviation, max, min, and various quantiles."
   ]
  },
  {
   "cell_type": "code",
   "execution_count": null,
   "metadata": {
    "cellView": "both",
    "colab": {
     "autoexec": {
      "startup": false,
      "wait_interval": 0
     },
     "test": {
      "output": "ignore",
      "timeout": 600
     }
    },
    "colab_type": "code",
    "collapsed": true,
    "id": "gzb10yoVrydW",
    "slideshow": {
     "slide_type": "slide"
    }
   },
   "outputs": [],
   "source": [
    "california_housing_dataframe.describe()"
   ]
  },
  {
   "cell_type": "markdown",
   "metadata": {
    "colab_type": "text",
    "id": "Lr6wYl2bt2Ep",
    "slideshow": {
     "slide_type": "-"
    }
   },
   "source": [
    "## Build the First Model\n",
    "\n",
    "In this exercise, we'll try to predict `median_house_value`, which will be our label (sometimes also called a target). We'll use `total_rooms` as our input feature.\n",
    "\n",
    "**NOTE:** Our data is at the city block level, so this feature represents the total number of rooms in that block.\n",
    "\n",
    "To train our model, we'll use the [LinearRegressor](https://www.tensorflow.org/api_docs/python/tf/estimator/LinearRegressor) interface provided by the TensorFlow [Estimator](https://www.tensorflow.org/get_started/estimator) API. This API takes care of a lot of the low-level model plumbing, and exposes convenient methods for performing model training, evaluation, and inference."
   ]
  },
  {
   "cell_type": "markdown",
   "metadata": {
    "colab_type": "text",
    "id": "0cpcsieFhsNI"
   },
   "source": [
    "### Step 1: Define Features and Configure Feature Columns"
   ]
  },
  {
   "cell_type": "markdown",
   "metadata": {
    "colab_type": "text",
    "id": "EL8-9d4ZJNR7"
   },
   "source": [
    "In order to import our training data into TensorFlow, we need to specify what type of data each feature contains. There are two main types of data we'll use in this and future exercises:\n",
    "\n",
    "* **Categorical Data**: Data that is textual. In this exercise, our housing data set does not contain any categorical features, but examples you might see would be the home style, the words in a real-estate ad.\n",
    "\n",
    "* **Numerical Data**: Data that is a number (integer or float) and that you want to treat as a number. As we will discuss more later sometimes you might want to treat numerical data (e.g., a postal code) as if it were categorical.\n",
    "\n",
    "In TensorFlow, we indicate a feature's data type using a construct called a **feature column**. \n",
    "\n",
    "To start, we're going to use just one numeric input feature, `total_rooms`. The following code pulls the `total_rooms` data from our `california_housing_dataframe` and defines the feature column using `numeric_column`, which specifies its data is numeric:"
   ]
  },
  {
   "cell_type": "code",
   "execution_count": null,
   "metadata": {
    "colab": {
     "autoexec": {
      "startup": false,
      "wait_interval": 0
     }
    },
    "colab_type": "code",
    "collapsed": true,
    "id": "rhEbFCZ86cDZ"
   },
   "outputs": [],
   "source": [
    "# Define the input feature: total_rooms.\n",
    "my_feature = california_housing_dataframe[[\"total_rooms\"]]\n",
    "\n",
    "# Configure a numeric feature column for total_rooms.\n",
    "feature_columns = [tf.feature_column.numeric_column(\"total_rooms\")]"
   ]
  },
  {
   "cell_type": "markdown",
   "metadata": {
    "colab_type": "text",
    "id": "K_3S8teX7Rd2"
   },
   "source": [
    "**NOTE:** The shape of our `total_rooms` data is a one-dimensional array (a list of the total number of rooms for each block). This is the default shape for `numeric_column`, so we don't have to pass it as an argument."
   ]
  },
  {
   "cell_type": "markdown",
   "metadata": {
    "colab_type": "text",
    "id": "UMl3qrU5MGV6"
   },
   "source": [
    "### Step 2: Define the Target"
   ]
  },
  {
   "cell_type": "markdown",
   "metadata": {
    "colab_type": "text",
    "id": "cw4nrfcB7kyk"
   },
   "source": [
    "Next, we'll define our target, which is `median_house_value`. Again, we can pull it from our `california_housing_dataframe`:"
   ]
  },
  {
   "cell_type": "code",
   "execution_count": null,
   "metadata": {
    "colab": {
     "autoexec": {
      "startup": false,
      "wait_interval": 0
     }
    },
    "colab_type": "code",
    "collapsed": true,
    "id": "l1NvvNkH8Kbt"
   },
   "outputs": [],
   "source": [
    "# Define the label.\n",
    "targets = california_housing_dataframe[\"median_house_value\"]"
   ]
  },
  {
   "cell_type": "markdown",
   "metadata": {},
   "source": [
    "### Gradient Descent"
   ]
  },
  {
   "cell_type": "markdown",
   "metadata": {},
   "source": [
    "Gradient descent is an optimization algorithm often used for finding the weights or coefficients of machine learning algorithms. In this case we will use it for out task of linear regression.\n",
    "\n",
    "It works by having the model using training data to make predictions and using the error on the predictions to update the model in such a way as to reduce the error. The goal of the algorithm is to find model parameters (e.g. coefficients or weights) that minimize the error of the model on the training dataset. It does this by making changes to the model that move it along a gradient or slope of errors down toward a minimum error value. This process gives the algorithm its name “gradient descent” and is depicted in the folloging figure:"
   ]
  },
  {
   "cell_type": "code",
   "execution_count": null,
   "metadata": {
    "collapsed": true
   },
   "outputs": [],
   "source": [
    "import base64\n",
    "Image(data=base64.decodestring(\"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\".encode('utf-8')), embed=True)"
   ]
  },
  {
   "cell_type": "markdown",
   "metadata": {},
   "source": [
    "** Batch Gradient Descent **\n",
    "\n",
    "Different version of Gradient descent can vary in terms of the number of training patterns used to calculate error; that is in turn used to update the model.\n",
    "\n",
    "In gradient descent, a batch is the total number of examples you use to calculate the gradient in a single iteration. So far, we've assumed that the batch has been the entire data set. When working at Google scale, data sets often contain billions or even hundreds of billions of examples. Furthermore, Google data sets often contain huge numbers of features. Consequently, a batch can be enormous. A very large batch may cause even a single iteration to take a very long time to compute.\n",
    "\n",
    "A large data set with randomly sampled examples probably contains redundant data. In fact, redundancy becomes more likely as the batch size grows. Some redundancy can be useful to smooth out noisy gradients, but enormous batches tend not to carry much more predictive value than large batches.\n",
    "\n",
    "What if we could get the right gradient on average for much less computation? By choosing examples at random from our data set, we could estimate (albeit, noisily) a big average from a much smaller one. Stochastic gradient descent (SGD) takes this idea to the extreme--it uses only a single example (a batch size of 1) per iteration. Given enough iterations, SGD works but is very noisy. The term \"stochastic\" indicates that the one example comprising each batch is chosen at random.\n",
    "\n",
    "\n",
    "** Mini-Batch Gradient Descent **\n",
    "\n",
    "Mini-batch stochastic gradient descent (mini-batch SGD) is a compromise between full-batch iteration and SGD. A mini-batch is typically between 10 and 1,000 examples, chosen at random. Mini-batch SGD reduces the amount of noise in SGD but is still more efficient than full-batch.\n",
    "Mini-batch gradient descent seeks to find a balance between the robustness of stochastic gradient descent and the efficiency of batch gradient descent. It is the most common implementation of gradient descent used in the field of deep learning.\n",
    "\n",
    "It requires the configuration of an additional “mini-batch size” hyperparameter for the learning algorithm."
   ]
  },
  {
   "cell_type": "markdown",
   "metadata": {
    "colab_type": "text",
    "id": "4M-rTFHL2UkA"
   },
   "source": [
    "### Step 3: Configure the LinearRegressor"
   ]
  },
  {
   "cell_type": "markdown",
   "metadata": {
    "colab_type": "text",
    "id": "fUfGQUNp7jdL"
   },
   "source": [
    "Next, we'll configure a linear regression model using LinearRegressor. We'll train this model using the `GradientDescentOptimizer`, which implements Mini-Batch Stochastic Gradient Descent. \n",
    "\n",
    "The `learning_rate` argument controls the size of the gradient step.\n",
    "\n",
    "**NOTE:** To be safe, we also apply [gradient clipping](https://developers.google.com/machine-learning/glossary/#gradient_clipping) to our optimizer via `clip_gradients_by_norm`. Gradient clipping ensures the magnitude of the gradients do not become too large during training, which can cause gradient descent to fail. "
   ]
  },
  {
   "cell_type": "code",
   "execution_count": null,
   "metadata": {
    "colab": {
     "autoexec": {
      "startup": false,
      "wait_interval": 0
     }
    },
    "colab_type": "code",
    "collapsed": true,
    "id": "ubhtW-NGU802"
   },
   "outputs": [],
   "source": [
    "# Use gradient descent as the optimizer for training the model.\n",
    "my_optimizer=tf.train.GradientDescentOptimizer(learning_rate=0.0000001)\n",
    "my_optimizer = tf.contrib.estimator.clip_gradients_by_norm(my_optimizer, 5.0)\n",
    "\n",
    "# Configure the linear regression model with our feature columns and optimizer.\n",
    "# Set a learning rate of 0.0000001 for Gradient Descent.\n",
    "linear_regressor = tf.estimator.LinearRegressor(\n",
    "    feature_columns=feature_columns,\n",
    "    optimizer=my_optimizer\n",
    ")"
   ]
  },
  {
   "cell_type": "markdown",
   "metadata": {
    "colab_type": "text",
    "id": "-0IztwdK2f3F"
   },
   "source": [
    "### Step 4: Define the Input Function"
   ]
  },
  {
   "cell_type": "markdown",
   "metadata": {
    "colab_type": "text",
    "id": "S5M5j6xSCHxx"
   },
   "source": [
    "To import our California housing data into our `LinearRegressor`, we need to define an input function, which instructs TensorFlow how to preprocess\n",
    "the data, as well as how to batch, shuffle, and repeat it during model training.\n",
    "\n",
    "First, we'll convert our *pandas* feature data into a dict of NumPy arrays. We can then use the TensorFlow [Dataset API](https://www.tensorflow.org/programmers_guide/datasets) to construct a dataset object from our data, and then break\n",
    "our data into batches of `batch_size`, to be repeated for the specified number of epochs (num_epochs). \n",
    "\n",
    "**NOTE:** When the default value of `num_epochs=None` is passed to `repeat()`, the input data will be repeated indefinitely.\n",
    "\n",
    "Next, if `shuffle` is set to `True`, we'll shuffle the data so that it's passed to the model randomly during training. The `buffer_size` argument specifies\n",
    "the size of the dataset from which `shuffle` will randomly sample.\n",
    "\n",
    "Finally, our input function constructs an iterator for the dataset and returns the next batch of data to the LinearRegressor."
   ]
  },
  {
   "cell_type": "code",
   "execution_count": null,
   "metadata": {
    "colab": {
     "autoexec": {
      "startup": false,
      "wait_interval": 0
     }
    },
    "colab_type": "code",
    "collapsed": true,
    "id": "RKZ9zNcHJtwc"
   },
   "outputs": [],
   "source": [
    "def my_input_fn(features, targets, batch_size=1, shuffle=True, num_epochs=None):\n",
    "    \"\"\"Trains a linear regression model of one feature.\n",
    "  \n",
    "    Args:\n",
    "      features: pandas DataFrame of features\n",
    "      targets: pandas DataFrame of targets\n",
    "      batch_size: Size of batches to be passed to the model\n",
    "      shuffle: True or False. Whether to shuffle the data.\n",
    "      num_epochs: Number of epochs for which data should be repeated. None = repeat indefinitely\n",
    "    Returns:\n",
    "      Tuple of (features, labels) for next data batch\n",
    "    \"\"\"\n",
    "  \n",
    "    # Convert pandas data into a dict of np arrays.\n",
    "    features = {key:np.array(value) for key,value in dict(features).items()}                                           \n",
    " \n",
    "    # Construct a dataset, and configure batching/repeating\n",
    "    ds = Dataset.from_tensor_slices((features,targets)) # warning: 2GB limit\n",
    "    ds = ds.batch(batch_size).repeat(num_epochs)\n",
    "    \n",
    "    # Shuffle the data, if specified\n",
    "    if shuffle:\n",
    "      ds = ds.shuffle(buffer_size=10000)\n",
    "    \n",
    "    # Return the next batch of data\n",
    "    return ds.make_one_shot_iterator().get_next()"
   ]
  },
  {
   "cell_type": "markdown",
   "metadata": {
    "colab_type": "text",
    "id": "wwa6UeA1V5F_"
   },
   "source": [
    "**Note:** For more\n",
    "detailed documentation of input functions and the `Dataset` API, see the [TensorFlow Programmer's Guide](https://www.tensorflow.org/programmers_guide/datasets)."
   ]
  },
  {
   "cell_type": "markdown",
   "metadata": {
    "colab_type": "text",
    "id": "4YS50CQb2ooO"
   },
   "source": [
    "### Step 5: Train the Model"
   ]
  },
  {
   "cell_type": "markdown",
   "metadata": {
    "colab_type": "text",
    "id": "yP92XkzhU803"
   },
   "source": [
    "We can now call `train()` on our `linear_regressor` to train the model. We'll wrap `my_input_fn` in a `lambda`\n",
    "so we can pass in `my_feature` and `target` as arguments (see this [TensorFlow input function tutorial](https://www.tensorflow.org/get_started/input_fn#passing_input_fn_data_to_your_model) for more details), and to start, we'll\n",
    "train for 100 steps."
   ]
  },
  {
   "cell_type": "code",
   "execution_count": null,
   "metadata": {
    "colab": {
     "autoexec": {
      "startup": false,
      "wait_interval": 0
     }
    },
    "colab_type": "code",
    "collapsed": true,
    "id": "5M-Kt6w8U803"
   },
   "outputs": [],
   "source": [
    "_ = linear_regressor.train(\n",
    "    input_fn = lambda:my_input_fn(my_feature, targets),\n",
    "    steps=100\n",
    ")"
   ]
  },
  {
   "cell_type": "markdown",
   "metadata": {
    "colab_type": "text",
    "id": "7Nwxqxlx2sOv"
   },
   "source": [
    "### Step 6: Evaluate the Model"
   ]
  },
  {
   "cell_type": "markdown",
   "metadata": {
    "colab_type": "text",
    "id": "KoDaF2dlJQG5"
   },
   "source": [
    "Let's make predictions on that training data, to see how well our model fit it during training.\n",
    "\n",
    "**Note:** Training error measures how well your model fits the training data, but it **_does not_** measure how well your model **_generalizes to new data_**. We will later explore how to split your data to evaluate your model's ability to generalize.\n"
   ]
  },
  {
   "cell_type": "code",
   "execution_count": null,
   "metadata": {
    "colab": {
     "autoexec": {
      "startup": false,
      "wait_interval": 0
     }
    },
    "colab_type": "code",
    "collapsed": true,
    "id": "pDIxp6vcU809"
   },
   "outputs": [],
   "source": [
    "# Create an input function for predictions.\n",
    "# Note: Since we're making just one prediction for each example, we don't \n",
    "# need to repeat or shuffle the data here.\n",
    "prediction_input_fn =lambda: my_input_fn(my_feature, targets, num_epochs=1, shuffle=False)\n",
    "\n",
    "# Call predict() on the linear_regressor to make predictions.\n",
    "predictions = linear_regressor.predict(input_fn=prediction_input_fn)\n",
    "\n",
    "# Format predictions as a NumPy array, so we can calculate error metrics.\n",
    "predictions = np.array([item['predictions'][0] for item in predictions])\n",
    "\n",
    "# Print Mean Squared Error and Root Mean Squared Error.\n",
    "mean_squared_error = metrics.mean_squared_error(predictions, targets)\n",
    "root_mean_squared_error = math.sqrt(mean_squared_error)\n",
    "print \"Mean Squared Error (on training data): %0.3f\" % mean_squared_error\n",
    "print \"Root Mean Squared Error (on training data): %0.3f\" % root_mean_squared_error"
   ]
  },
  {
   "cell_type": "markdown",
   "metadata": {
    "colab_type": "text",
    "id": "AKWstXXPzOVz",
    "slideshow": {
     "slide_type": "slide"
    }
   },
   "source": [
    "Is this a good model? How would you judge how large this error is?\n",
    "\n",
    "Mean Squared Error (MSE) can be hard to interpret, so we often look at Root Mean Squared Error (RMSE)\n",
    "instead.  A nice property of RMSE is that it can be interpreted on the same scale as the original targets.\n",
    "\n",
    "Let's compare the RMSE to the difference of the min and max of our targets:"
   ]
  },
  {
   "cell_type": "code",
   "execution_count": null,
   "metadata": {
    "colab": {
     "autoexec": {
      "startup": false,
      "wait_interval": 0
     }
    },
    "colab_type": "code",
    "collapsed": true,
    "id": "7UwqGbbxP53O"
   },
   "outputs": [],
   "source": [
    "min_house_value = california_housing_dataframe[\"median_house_value\"].min()\n",
    "max_house_value = california_housing_dataframe[\"median_house_value\"].max()\n",
    "min_max_difference = max_house_value - min_house_value\n",
    "\n",
    "print \"Min. Median House Value: %0.3f\" % min_house_value\n",
    "print \"Max. Median House Value: %0.3f\" % max_house_value\n",
    "print \"Difference between Min. and Max.: %0.3f\" % min_max_difference\n",
    "print \"Root Mean Squared Error: %0.3f\" % root_mean_squared_error"
   ]
  },
  {
   "cell_type": "markdown",
   "metadata": {
    "colab_type": "text",
    "id": "JigJr0C7Pzit"
   },
   "source": [
    "Our error spans nearly half the range of the target values. Can we do better?\n",
    "\n",
    "This is the question that nags at every model developer. Let's develop some basic strategies to reduce model error.\n",
    "\n",
    "The first thing we can do is take a look at how well our predictions match our targets, in terms of overall summary statistics."
   ]
  },
  {
   "cell_type": "code",
   "execution_count": null,
   "metadata": {
    "cellView": "both",
    "colab": {
     "autoexec": {
      "startup": false,
      "wait_interval": 0
     },
     "test": {
      "output": "ignore",
      "timeout": 600
     }
    },
    "colab_type": "code",
    "collapsed": true,
    "id": "941nclxbzqGH",
    "slideshow": {
     "slide_type": "-"
    }
   },
   "outputs": [],
   "source": [
    "calibration_data = pd.DataFrame()\n",
    "calibration_data[\"predictions\"] = pd.Series(predictions)\n",
    "calibration_data[\"targets\"] = pd.Series(targets)\n",
    "calibration_data.describe()"
   ]
  },
  {
   "cell_type": "markdown",
   "metadata": {
    "colab_type": "text",
    "id": "E2-bf8Hq36y8",
    "slideshow": {
     "slide_type": "-"
    }
   },
   "source": [
    "Okay, maybe this information is helpful. How does the mean value compare to the model's RMSE? How about the various quantiles?\n",
    "\n",
    "We can also visualize the data and the line we've learned.  Recall that linear regression on a single feature can be drawn as a line mapping input *x* to output *y*.\n",
    "\n",
    "First, we'll get a uniform random sample of the data so we can make a readable scatter plot."
   ]
  },
  {
   "cell_type": "code",
   "execution_count": null,
   "metadata": {
    "colab": {
     "autoexec": {
      "startup": false,
      "wait_interval": 0
     }
    },
    "colab_type": "code",
    "collapsed": true,
    "id": "SGRIi3mAU81H"
   },
   "outputs": [],
   "source": [
    "sample = california_housing_dataframe.sample(n=300)"
   ]
  },
  {
   "cell_type": "markdown",
   "metadata": {
    "colab_type": "text",
    "id": "N-JwuJBKU81J"
   },
   "source": [
    "Next, we'll plot the line we've learned, drawing from the model's bias term and feature weight, together with the scatter plot. The line will show up red."
   ]
  },
  {
   "cell_type": "code",
   "execution_count": null,
   "metadata": {
    "cellView": "both",
    "colab": {
     "autoexec": {
      "startup": false,
      "wait_interval": 0
     },
     "test": {
      "output": "ignore",
      "timeout": 600
     }
    },
    "colab_type": "code",
    "collapsed": true,
    "id": "7G12E76-339G",
    "slideshow": {
     "slide_type": "-"
    }
   },
   "outputs": [],
   "source": [
    "# Get the min and max total_rooms values.\n",
    "x_0 = sample[\"total_rooms\"].min()\n",
    "x_1 = sample[\"total_rooms\"].max()\n",
    "\n",
    "# Retrieve the final weight and bias generated during training.\n",
    "weight = linear_regressor.get_variable_value('linear/linear_model/total_rooms/weights')[0]\n",
    "bias = linear_regressor.get_variable_value('linear/linear_model/bias_weights')\n",
    "\n",
    "# Get the predicted median_house_values for the min and max total_rooms values.\n",
    "y_0 = weight * x_0 + bias \n",
    "y_1 = weight * x_1 + bias\n",
    "\n",
    "# Plot our regression line from (x_0, y_0) to (x_1, y_1).\n",
    "plt.plot([x_0, x_1], [y_0, y_1], c='r')\n",
    "\n",
    "# Label the graph axes.\n",
    "plt.ylabel(\"median_house_value\")\n",
    "plt.xlabel(\"total_rooms\")\n",
    "\n",
    "# Plot a scatter plot from our data sample.\n",
    "plt.scatter(sample[\"total_rooms\"], sample[\"median_house_value\"])\n",
    "\n",
    "# Display graph.\n",
    "plt.show()"
   ]
  },
  {
   "cell_type": "markdown",
   "metadata": {
    "colab_type": "text",
    "id": "t0lRt4USU81L"
   },
   "source": [
    "This initial line looks way off.  See if you can look back at the summary stats and see the same information encoded there.\n",
    "\n",
    "Together, these initial sanity checks suggest we may be able to find a much better line."
   ]
  },
  {
   "cell_type": "markdown",
   "metadata": {
    "colab_type": "text",
    "id": "AZWF67uv0HTG",
    "slideshow": {
     "slide_type": "slide"
    }
   },
   "source": [
    "## Tweak the Model Hyperparameters\n",
    "For this exercise, we've put all the above code in a single function for convenience. You can call the function with different parameters to see the effect.\n",
    "\n",
    "In this function, we'll proceed in 10 evenly divided periods so that we can observe the model improvement at each period.\n",
    "\n",
    "For each period, we'll compute and graph training loss.  This may help you judge when a model is converged, or if it needs more iterations.\n",
    "\n",
    "We'll also plot the feature weight and bias term values learned by the model over time.  This is another way to see how things converge."
   ]
  },
  {
   "cell_type": "code",
   "execution_count": null,
   "metadata": {
    "colab": {
     "autoexec": {
      "startup": false,
      "wait_interval": 0
     }
    },
    "colab_type": "code",
    "collapsed": true,
    "id": "wgSMeD5UU81N"
   },
   "outputs": [],
   "source": [
    "def train_model(learning_rate, steps, batch_size, input_feature=\"total_rooms\"):\n",
    "  \"\"\"Trains a linear regression model of one feature.\n",
    "  \n",
    "  Args:\n",
    "    learning_rate: A `float`, the learning rate.\n",
    "    steps: A non-zero `int`, the total number of training steps. A training step\n",
    "      consists of a forward and backward pass using a single batch.\n",
    "    batch_size: A non-zero `int`, the batch size.\n",
    "    input_feature: A `string` specifying a column from `california_housing_dataframe`\n",
    "      to use as input feature.\n",
    "  \"\"\"\n",
    "  \n",
    "  periods = 10\n",
    "  steps_per_period = steps / periods\n",
    "\n",
    "  my_feature = input_feature\n",
    "  my_feature_column = california_housing_dataframe[[my_feature]]\n",
    "  my_label = \"median_house_value\"\n",
    "  targets = california_housing_dataframe[my_label]\n",
    "\n",
    "  # Create feature columns\n",
    "  feature_columns = [tf.feature_column.numeric_column(my_feature)]\n",
    "  \n",
    "  # Create input functions\n",
    "  training_input_fn = lambda:my_input_fn(my_feature_column, targets, batch_size=batch_size)\n",
    "  prediction_input_fn = lambda: my_input_fn(my_feature_column, targets, num_epochs=1, shuffle=False)\n",
    "  \n",
    "  # Create a linear regressor object.\n",
    "  my_optimizer = tf.train.GradientDescentOptimizer(learning_rate=learning_rate)\n",
    "  my_optimizer = tf.contrib.estimator.clip_gradients_by_norm(my_optimizer, 5.0)\n",
    "  linear_regressor = tf.estimator.LinearRegressor(\n",
    "      feature_columns=feature_columns,\n",
    "      optimizer=my_optimizer\n",
    "  )\n",
    "\n",
    "  # Set up to plot the state of our model's line each period.\n",
    "  plt.figure(figsize=(15, 6))\n",
    "  plt.subplot(1, 2, 1)\n",
    "  plt.title(\"Learned Line by Period\")\n",
    "  plt.ylabel(my_label)\n",
    "  plt.xlabel(my_feature)\n",
    "  sample = california_housing_dataframe.sample(n=300)\n",
    "  plt.scatter(sample[my_feature], sample[my_label])\n",
    "  colors = [cm.coolwarm(x) for x in np.linspace(-1, 1, periods)]\n",
    "\n",
    "  # Train the model, but do so inside a loop so that we can periodically assess\n",
    "  # loss metrics.\n",
    "  print(\"Training model...\")\n",
    "  print(\"RMSE (on training data):\")\n",
    "  root_mean_squared_errors = []\n",
    "  for period in range (0, periods):\n",
    "    # Train the model, starting from the prior state.\n",
    "    linear_regressor.train(\n",
    "        input_fn=training_input_fn,\n",
    "        steps=steps_per_period\n",
    "    )\n",
    "    # Take a break and compute predictions.\n",
    "    predictions = linear_regressor.predict(input_fn=prediction_input_fn)\n",
    "    predictions = np.array([item['predictions'][0] for item in predictions])\n",
    "    \n",
    "    # Compute loss.\n",
    "    root_mean_squared_error = math.sqrt(\n",
    "        metrics.mean_squared_error(predictions, targets))\n",
    "    # Occasionally print the current loss.\n",
    "    print(\"  period %02d : %0.2f\") % (period, root_mean_squared_error)\n",
    "    # Add the loss metrics from this period to our list.\n",
    "    root_mean_squared_errors.append(root_mean_squared_error)\n",
    "    # Finally, track the weights and biases over time.\n",
    "    # Apply some math to ensure that the data and line are plotted neatly.\n",
    "    y_extents = np.array([0, sample[my_label].max()])\n",
    "    \n",
    "    weight = linear_regressor.get_variable_value('linear/linear_model/%s/weights' % input_feature)[0]\n",
    "    bias = linear_regressor.get_variable_value('linear/linear_model/bias_weights')\n",
    "\n",
    "    x_extents = (y_extents - bias) / weight\n",
    "    x_extents = np.maximum(np.minimum(x_extents,\n",
    "                                      sample[my_feature].max()),\n",
    "                           sample[my_feature].min())\n",
    "    y_extents = weight * x_extents + bias\n",
    "    plt.plot(x_extents, y_extents, color=colors[period]) \n",
    "  print(\"Model training finished.\")\n",
    "\n",
    "  # Output a graph of loss metrics over periods.\n",
    "  plt.subplot(1, 2, 2)\n",
    "  plt.ylabel('RMSE')\n",
    "  plt.xlabel('Periods')\n",
    "  plt.title(\"Root Mean Squared Error vs. Periods\")\n",
    "  plt.tight_layout()\n",
    "  plt.plot(root_mean_squared_errors)\n",
    "\n",
    "  # Output a table with calibration data.\n",
    "  calibration_data = pd.DataFrame()\n",
    "  calibration_data[\"predictions\"] = pd.Series(predictions)\n",
    "  calibration_data[\"targets\"] = pd.Series(targets)\n",
    "  display.display(calibration_data.describe())\n",
    "\n",
    "  print(\"Final RMSE (on training data): %0.2f\") % root_mean_squared_error"
   ]
  },
  {
   "cell_type": "markdown",
   "metadata": {
    "colab_type": "text",
    "id": "kg8A4ArBU81Q"
   },
   "source": [
    "## Task 1:  Achieve an RMSE of 180 or Below\n",
    "\n",
    "Tweak the model hyperparameters to improve loss and better match the target distribution.\n",
    "If, after 5 minutes or so, you're having trouble beating a RMSE of 180, check the solution at the end of the notebook for a possible combination."
   ]
  },
  {
   "cell_type": "code",
   "execution_count": null,
   "metadata": {
    "cellView": "both",
    "colab": {
     "autoexec": {
      "startup": false,
      "wait_interval": 0
     },
     "test": {
      "output": "ignore",
      "timeout": 600
     }
    },
    "colab_type": "code",
    "collapsed": true,
    "id": "UzoZUSdLIolF",
    "slideshow": {
     "slide_type": "slide"
    }
   },
   "outputs": [],
   "source": [
    "train_model(\n",
    "    learning_rate=0.00001,\n",
    "    steps=100,\n",
    "    batch_size=1\n",
    ")"
   ]
  },
  {
   "cell_type": "markdown",
   "metadata": {
    "colab_type": "text",
    "id": "QU5sLyYTqzqL",
    "slideshow": {
     "slide_type": "slide"
    }
   },
   "source": [
    "### Is There a Standard Heuristic for Model Tuning?\n",
    "\n",
    "This is a commonly asked question. The short answer is that the effects of different hyperparameters are data dependent. So there are no hard-and-fast rules; you'll need to test on your data.\n",
    "\n",
    "That said, here are a few rules of thumb that may help guide you:\n",
    "\n",
    " * Training error should steadily decrease, steeply at first, and should eventually plateau as training converges.\n",
    " * If the training has not converged, try running it for longer.\n",
    " * If the training error decreases too slowly, increasing the learning rate may help it decrease faster.\n",
    "   * But sometimes the exact opposite may happen if the learning rate is too high.\n",
    " * If the training error varies wildly, try decreasing the learning rate.\n",
    "   * Lower learning rate plus larger number of steps or larger batch size is often a good combination.\n",
    " * Very small batch sizes can also cause instability.  First try larger values like 100 or 1000, and decrease until you see degradation.\n",
    "\n",
    "Again, never go strictly by these rules of thumb, because the effects are data dependent.  Always experiment and verify."
   ]
  },
  {
   "cell_type": "markdown",
   "metadata": {
    "colab_type": "text",
    "id": "GpV-uF_cBCBU",
    "slideshow": {
     "slide_type": "slide"
    }
   },
   "source": [
    "## Task 2: Try a Different Feature\n",
    "\n",
    "See if you can do any better by replacing the `total_rooms` feature with the `population` feature.\n",
    "\n",
    "Don't take more than 5 minutes on this portion."
   ]
  },
  {
   "cell_type": "code",
   "execution_count": null,
   "metadata": {
    "colab": {
     "autoexec": {
      "startup": false,
      "wait_interval": 0
     }
    },
    "colab_type": "code",
    "collapsed": true,
    "id": "YMyOxzb0ZlAH"
   },
   "outputs": [],
   "source": [
    "# YOUR CODE HERE"
   ]
  },
  {
   "cell_type": "markdown",
   "metadata": {
    "colab_type": "text",
    "id": "ci1ISxxrZ7v0"
   },
   "source": [
    "### Solution of Task 1\n",
    "\n",
    "  \n",
    "  \n",
    "  \n",
    "  \n",
    "  \n",
    "  \n",
    "  \n",
    "  \n",
    "  \n",
    "    \n",
    "      \n",
    "        \n",
    "          \n",
    "            \n",
    "              \n",
    "              \n",
    "\n",
    "\n",
    "\n",
    "\n",
    "\n",
    "\n",
    "\n"
   ]
  },
  {
   "cell_type": "code",
   "execution_count": null,
   "metadata": {
    "collapsed": true
   },
   "outputs": [],
   "source": [
    "train_model(\n",
    "    learning_rate=0.00002,\n",
    "    steps=500,\n",
    "    batch_size=5\n",
    ")"
   ]
  },
  {
   "cell_type": "markdown",
   "metadata": {},
   "source": [
    "This is just one possible configuration; there may be other combinations of settings that also give good results. Note that in general, this exercise isn't about finding the *one best* setting, but to help build your intutions about how tweaking the model configuration affects prediction quality."
   ]
  }
 ],
 "metadata": {
  "colab": {
   "collapsed_sections": [
    "ajVM7rkoYXeL",
    "ci1ISxxrZ7v0"
   ],
   "default_view": {},
   "name": "first_steps_with_tensor_flow.ipynb",
   "provenance": [],
   "version": "0.3.2",
   "views": {}
  },
  "kernelspec": {
   "display_name": "Python 3",
   "language": "python",
   "name": "python3"
  },
  "language_info": {
   "codemirror_mode": {
    "name": "ipython",
    "version": 3
   },
   "file_extension": ".py",
   "mimetype": "text/x-python",
   "name": "python",
   "nbconvert_exporter": "python",
   "pygments_lexer": "ipython3",
   "version": "3.6.0"
  }
 },
 "nbformat": 4,
 "nbformat_minor": 1
}
